{
 "cells": [
  {
   "cell_type": "markdown",
   "metadata": {},
   "source": [
    "## Argopy Introduction"
   ]
  },
  {
   "cell_type": "code",
   "execution_count": 1,
   "metadata": {},
   "outputs": [],
   "source": [
    "# load libraries\n",
    "import numpy as np\n",
    "from argopy import DataFetcher as ArgoDataFetcher\n",
    "argo_loader = ArgoDataFetcher()\n",
    "from argopy import IndexFetcher as ArgoIndexFetcher\n",
    "index_loader = ArgoIndexFetcher()"
   ]
  },
  {
   "cell_type": "markdown",
   "metadata": {},
   "source": [
    "## [Fetch data for a space/time domain](https://argopy.readthedocs.io/en/latest/data_fetching.html)"
   ]
  },
  {
   "cell_type": "code",
   "execution_count": 2,
   "metadata": {},
   "outputs": [
    {
     "name": "stdout",
     "output_type": "stream",
     "text": [
      "<xarray.Dataset>\n",
      "Dimensions:          (N_POINTS: 998)\n",
      "Coordinates:\n",
      "  * N_POINTS         (N_POINTS) int64 0 1 2 3 4 5 6 ... 992 993 994 995 996 997\n",
      "    LATITUDE         (N_POINTS) float64 24.54 24.54 25.04 ... 26.67 24.96 24.96\n",
      "    LONGITUDE        (N_POINTS) float64 -45.14 -45.14 -51.58 ... -50.4 -50.4\n",
      "    TIME             (N_POINTS) datetime64[ns] 2011-01-01T11:49:19 ... 2011-0...\n",
      "Data variables:\n",
      "    CYCLE_NUMBER     (N_POINTS) int64 23 23 10 10 10 10 10 ... 1 5 2 10 10 38 38\n",
      "    DATA_MODE        (N_POINTS) <U1 'D' 'D' 'D' 'D' 'D' ... 'D' 'D' 'D' 'D' 'D'\n",
      "    DIRECTION        (N_POINTS) <U1 'A' 'A' 'A' 'A' 'A' ... 'A' 'A' 'A' 'A' 'A'\n",
      "    PLATFORM_NUMBER  (N_POINTS) int64 1901463 1901463 ... 1901463 1901463\n",
      "    POSITION_QC      (N_POINTS) int64 1 1 1 1 1 1 1 1 1 1 ... 1 1 1 1 1 1 1 1 1\n",
      "    PRES             (N_POINTS) float32 5.0 10.0 2.0 4.0 ... 5.12 9.42 5.0 10.0\n",
      "    PRES_QC          (N_POINTS) int64 1 1 1 1 1 1 1 1 1 1 ... 1 1 1 1 1 1 1 1 1\n",
      "    PSAL             (N_POINTS) float32 37.44895 37.44793 ... 37.08037 37.0463\n",
      "    PSAL_QC          (N_POINTS) int64 1 1 1 1 1 1 1 1 1 1 ... 1 1 1 1 1 1 1 1 1\n",
      "    TEMP             (N_POINTS) float32 24.081 24.084 24.028 ... 25.098 24.794\n",
      "    TEMP_QC          (N_POINTS) int64 1 1 1 1 1 1 1 1 1 1 ... 1 1 1 1 1 1 1 1 1\n",
      "    TIME_QC          (N_POINTS) int64 1 1 1 1 1 1 1 1 1 1 ... 1 1 1 1 1 1 1 1 1\n",
      "Attributes:\n",
      "    DATA_ID:              ARGO\n",
      "    DOI:                  http://doi.org/10.17882/42182\n",
      "    Fetched_from:         https://www.ifremer.fr/erddap\n",
      "    Fetched_by:           jovyan\n",
      "    Fetched_date:         2020/08/13\n",
      "    Fetched_constraints:  phy_[x=-75.00/-45.00; y=20.00/30.00; z=0.0/10.0; t=...\n",
      "    Fetched_uri:          https://www.ifremer.fr/erddap/tabledap/ArgoFloats.n...\n",
      "    history:              Variables filtered according to DATA_MODE; Variable...\n"
     ]
    }
   ],
   "source": [
    "ds = argo_loader.region([-75, -45, 20, 30, 0, 10, '2011-01-01', '2011-06']).to_xarray()\n",
    "print(ds)"
   ]
  },
  {
   "cell_type": "code",
   "execution_count": 3,
   "metadata": {},
   "outputs": [
    {
     "data": {
      "text/plain": [
       "array([1901461, 1901463, 4900780, 4900781, 4900785, 4900789, 4900794,\n",
       "       4900805, 4900808, 4900818, 4900819, 4900823, 4900825, 4900829,\n",
       "       4900830, 4900839, 4900847, 4900851, 4900852, 4901062, 4901083,\n",
       "       4901211, 4901215, 4901221, 4901222, 4901224, 4901279, 4901282,\n",
       "       4901284, 4901286, 4901287, 4901288, 6900551, 6900590, 6900774,\n",
       "       6900775, 6900776, 6900777, 6900778, 6900779, 6900828, 6901049,\n",
       "       6901050, 6901051, 6901052])"
      ]
     },
     "execution_count": 3,
     "metadata": {},
     "output_type": "execute_result"
    }
   ],
   "source": [
    "np.unique(ds.PLATFORM_NUMBER)"
   ]
  },
  {
   "cell_type": "markdown",
   "metadata": {},
   "source": [
    "## Points X Profiles\n",
    "\n",
    "https://argopy.readthedocs.io/en/latest/data_manipulation.html#Points-vs-profiles"
   ]
  },
  {
   "cell_type": "markdown",
   "metadata": {},
   "source": [
    "Fetched data are returned as a 1D array collection of measurements:"
   ]
  },
  {
   "cell_type": "code",
   "execution_count": 4,
   "metadata": {},
   "outputs": [
    {
     "name": "stdout",
     "output_type": "stream",
     "text": [
      "<xarray.Dataset>\n",
      "Dimensions:          (N_POINTS: 998)\n",
      "Coordinates:\n",
      "  * N_POINTS         (N_POINTS) int64 0 1 2 3 4 5 6 ... 992 993 994 995 996 997\n",
      "    LATITUDE         (N_POINTS) float64 24.54 24.54 25.04 ... 26.67 24.96 24.96\n",
      "    LONGITUDE        (N_POINTS) float64 -45.14 -45.14 -51.58 ... -50.4 -50.4\n",
      "    TIME             (N_POINTS) datetime64[ns] 2011-01-01T11:49:19 ... 2011-0...\n",
      "Data variables:\n",
      "    CYCLE_NUMBER     (N_POINTS) int64 23 23 10 10 10 10 10 ... 1 5 2 10 10 38 38\n",
      "    DATA_MODE        (N_POINTS) <U1 'D' 'D' 'D' 'D' 'D' ... 'D' 'D' 'D' 'D' 'D'\n",
      "    DIRECTION        (N_POINTS) <U1 'A' 'A' 'A' 'A' 'A' ... 'A' 'A' 'A' 'A' 'A'\n",
      "    PLATFORM_NUMBER  (N_POINTS) int64 1901463 1901463 ... 1901463 1901463\n",
      "    POSITION_QC      (N_POINTS) int64 1 1 1 1 1 1 1 1 1 1 ... 1 1 1 1 1 1 1 1 1\n",
      "    PRES             (N_POINTS) float32 5.0 10.0 2.0 4.0 ... 5.12 9.42 5.0 10.0\n",
      "    PRES_QC          (N_POINTS) int64 1 1 1 1 1 1 1 1 1 1 ... 1 1 1 1 1 1 1 1 1\n",
      "    PSAL             (N_POINTS) float32 37.44895 37.44793 ... 37.08037 37.0463\n",
      "    PSAL_QC          (N_POINTS) int64 1 1 1 1 1 1 1 1 1 1 ... 1 1 1 1 1 1 1 1 1\n",
      "    TEMP             (N_POINTS) float32 24.081 24.084 24.028 ... 25.098 24.794\n",
      "    TEMP_QC          (N_POINTS) int64 1 1 1 1 1 1 1 1 1 1 ... 1 1 1 1 1 1 1 1 1\n",
      "    TIME_QC          (N_POINTS) int64 1 1 1 1 1 1 1 1 1 1 ... 1 1 1 1 1 1 1 1 1\n",
      "Attributes:\n",
      "    DATA_ID:              ARGO\n",
      "    DOI:                  http://doi.org/10.17882/42182\n",
      "    Fetched_from:         https://www.ifremer.fr/erddap\n",
      "    Fetched_by:           jovyan\n",
      "    Fetched_date:         2020/08/13\n",
      "    Fetched_constraints:  phy_[x=-75.00/-45.00; y=20.00/30.00; z=0.0/10.0; t=...\n",
      "    Fetched_uri:          https://www.ifremer.fr/erddap/tabledap/ArgoFloats.n...\n",
      "    history:              Variables filtered according to DATA_MODE; Variable...\n"
     ]
    }
   ],
   "source": [
    "ds_points = argo_loader.to_xarray()\n",
    "print(ds_points)"
   ]
  },
  {
   "cell_type": "markdown",
   "metadata": {},
   "source": [
    "If you prefer to work with a 2D array collection of vertical profiles, simply transform the dataset with argopy.xarray.ArgoAccessor.point2profile():"
   ]
  },
  {
   "cell_type": "code",
   "execution_count": 5,
   "metadata": {},
   "outputs": [
    {
     "name": "stdout",
     "output_type": "stream",
     "text": [
      "<xarray.Dataset>\n",
      "Dimensions:          (N_LEVELS: 10, N_PROF: 467)\n",
      "Coordinates:\n",
      "    LONGITUDE        (N_PROF) float64 -45.14 -51.58 -60.82 ... -66.83 -50.4\n",
      "    LATITUDE         (N_PROF) float64 24.54 25.04 21.48 ... 21.49 26.67 24.96\n",
      "    TIME             (N_PROF) datetime64[ns] 2011-01-01T11:49:19 ... 2011-05-...\n",
      "  * N_LEVELS         (N_LEVELS) int64 0 1 2 3 4 5 6 7 8 9\n",
      "  * N_PROF           (N_PROF) int64 15 286 125 0 223 46 ... 371 460 465 433 30\n",
      "Data variables:\n",
      "    CYCLE_NUMBER     (N_PROF) int64 23 10 135 23 119 160 134 ... 163 1 5 2 10 38\n",
      "    DATA_MODE        (N_PROF) <U1 'D' 'D' 'D' 'D' 'D' ... 'D' 'D' 'D' 'D' 'D'\n",
      "    DIRECTION        (N_PROF) <U1 'A' 'A' 'A' 'A' 'A' ... 'A' 'A' 'A' 'A' 'A'\n",
      "    PLATFORM_NUMBER  (N_PROF) int64 1901463 4901211 4900818 ... 6900778 1901463\n",
      "    POSITION_QC      (N_PROF) int64 1 1 1 1 1 1 1 1 1 1 ... 1 1 1 1 1 1 1 1 1 1\n",
      "    PRES             (N_PROF, N_LEVELS) float32 5.0 10.0 nan nan ... nan nan nan\n",
      "    PRES_QC          (N_PROF) int64 1 1 1 1 1 1 1 1 1 1 ... 1 1 1 1 1 1 1 1 1 1\n",
      "    PSAL             (N_PROF, N_LEVELS) float32 37.44895 37.44793 ... nan nan\n",
      "    PSAL_QC          (N_PROF) int64 1 1 1 1 1 1 1 1 1 1 ... 1 1 1 1 1 1 1 1 1 1\n",
      "    TEMP             (N_PROF, N_LEVELS) float32 24.081 24.084 nan ... nan nan\n",
      "    TEMP_QC          (N_PROF) int64 1 1 1 1 1 1 1 1 1 1 ... 1 1 1 1 1 1 1 1 1 1\n",
      "    TIME_QC          (N_PROF) int64 1 1 1 1 1 1 1 1 1 1 ... 1 1 1 1 1 1 1 1 1 1\n",
      "Attributes:\n",
      "    DATA_ID:              ARGO\n",
      "    DOI:                  http://doi.org/10.17882/42182\n",
      "    Fetched_from:         https://www.ifremer.fr/erddap\n",
      "    Fetched_by:           jovyan\n",
      "    Fetched_date:         2020/08/13\n",
      "    Fetched_constraints:  phy_[x=-75.00/-45.00; y=20.00/30.00; z=0.0/10.0; t=...\n",
      "    Fetched_uri:          https://www.ifremer.fr/erddap/tabledap/ArgoFloats.n...\n",
      "    history:              Variables filtered according to DATA_MODE; Variable...\n"
     ]
    }
   ],
   "source": [
    "ds_profiles = ds_points.argo.point2profile()\n",
    "print(ds_profiles)"
   ]
  },
  {
   "cell_type": "markdown",
   "metadata": {},
   "source": [
    "You can simply reverse this transformation with the argopy.argo.profile2point():\n"
   ]
  },
  {
   "cell_type": "code",
   "execution_count": 6,
   "metadata": {},
   "outputs": [
    {
     "name": "stdout",
     "output_type": "stream",
     "text": [
      "<xarray.Dataset>\n",
      "Dimensions:          (N_POINTS: 998)\n",
      "Coordinates:\n",
      "  * N_POINTS         (N_POINTS) int64 0 1 2 3 4 5 6 ... 992 993 994 995 996 997\n",
      "    LONGITUDE        (N_POINTS) float64 -45.14 -45.14 -51.58 ... -50.4 -50.4\n",
      "    LATITUDE         (N_POINTS) float64 24.54 24.54 25.04 ... 26.67 24.96 24.96\n",
      "    TIME             (N_POINTS) datetime64[ns] 2011-01-01T11:49:19 ... 2011-0...\n",
      "Data variables:\n",
      "    CYCLE_NUMBER     (N_POINTS) int64 23 23 10 10 10 10 10 ... 1 5 2 10 10 38 38\n",
      "    DATA_MODE        (N_POINTS) <U1 'D' 'D' 'D' 'D' 'D' ... 'D' 'D' 'D' 'D' 'D'\n",
      "    DIRECTION        (N_POINTS) <U1 'A' 'A' 'A' 'A' 'A' ... 'A' 'A' 'A' 'A' 'A'\n",
      "    PLATFORM_NUMBER  (N_POINTS) int64 1901463 1901463 ... 1901463 1901463\n",
      "    POSITION_QC      (N_POINTS) int64 1 1 1 1 1 1 1 1 1 1 ... 1 1 1 1 1 1 1 1 1\n",
      "    PRES             (N_POINTS) float32 5.0 10.0 2.0 4.0 ... 5.12 9.42 5.0 10.0\n",
      "    PRES_QC          (N_POINTS) int64 1 1 1 1 1 1 1 1 1 1 ... 1 1 1 1 1 1 1 1 1\n",
      "    PSAL             (N_POINTS) float32 37.44895 37.44793 ... 37.08037 37.0463\n",
      "    PSAL_QC          (N_POINTS) int64 1 1 1 1 1 1 1 1 1 1 ... 1 1 1 1 1 1 1 1 1\n",
      "    TEMP             (N_POINTS) float32 24.081 24.084 24.028 ... 25.098 24.794\n",
      "    TEMP_QC          (N_POINTS) int64 1 1 1 1 1 1 1 1 1 1 ... 1 1 1 1 1 1 1 1 1\n",
      "    TIME_QC          (N_POINTS) int64 1 1 1 1 1 1 1 1 1 1 ... 1 1 1 1 1 1 1 1 1\n",
      "Attributes:\n",
      "    DATA_ID:              ARGO\n",
      "    DOI:                  http://doi.org/10.17882/42182\n",
      "    Fetched_from:         https://www.ifremer.fr/erddap\n",
      "    Fetched_by:           jovyan\n",
      "    Fetched_date:         2020/08/13\n",
      "    Fetched_constraints:  phy_[x=-75.00/-45.00; y=20.00/30.00; z=0.0/10.0; t=...\n",
      "    Fetched_uri:          https://www.ifremer.fr/erddap/tabledap/ArgoFloats.n...\n",
      "    history:              Variables filtered according to DATA_MODE; Variable...\n"
     ]
    }
   ],
   "source": [
    "ds = ds_profiles.argo.profile2point()\n",
    "print(ds)"
   ]
  },
  {
   "cell_type": "markdown",
   "metadata": {},
   "source": [
    "## [Fetch Argo metadata](https://argopy.readthedocs.io/en/latest/metadata_fetching.html)"
   ]
  },
  {
   "cell_type": "code",
   "execution_count": 6,
   "metadata": {},
   "outputs": [
    {
     "data": {
      "text/plain": [
       "<indexfetcher 'Ifremer erddap Argo Index fetcher'>\n",
       "Domain: [x=-75.00/-45.00; y=20.00/30.00; t=2011-01-01/2011-06-01]\n",
       "User mode: standard"
      ]
     },
     "execution_count": 6,
     "metadata": {},
     "output_type": "execute_result"
    }
   ],
   "source": [
    "idx = index_loader.region([-75, -45, 20, 30, '2011-01-01', '2011-06'])\n",
    "idx"
   ]
  },
  {
   "cell_type": "code",
   "execution_count": 10,
   "metadata": {},
   "outputs": [
    {
     "data": {
      "text/html": [
       "<div>\n",
       "<style scoped>\n",
       "    .dataframe tbody tr th:only-of-type {\n",
       "        vertical-align: middle;\n",
       "    }\n",
       "\n",
       "    .dataframe tbody tr th {\n",
       "        vertical-align: top;\n",
       "    }\n",
       "\n",
       "    .dataframe thead th {\n",
       "        text-align: right;\n",
       "    }\n",
       "</style>\n",
       "<table border=\"1\" class=\"dataframe\">\n",
       "  <thead>\n",
       "    <tr style=\"text-align: right;\">\n",
       "      <th></th>\n",
       "      <th>file</th>\n",
       "      <th>date</th>\n",
       "      <th>longitude</th>\n",
       "      <th>latitude</th>\n",
       "      <th>ocean</th>\n",
       "      <th>profiler_code</th>\n",
       "      <th>institution_code</th>\n",
       "      <th>date_update</th>\n",
       "      <th>wmo</th>\n",
       "      <th>institution</th>\n",
       "      <th>profiler</th>\n",
       "    </tr>\n",
       "  </thead>\n",
       "  <tbody>\n",
       "    <tr>\n",
       "      <th>0</th>\n",
       "      <td>aoml/1901463/profiles/D1901463_023.nc</td>\n",
       "      <td>2011-01-01 11:49:19</td>\n",
       "      <td>-45.143</td>\n",
       "      <td>24.541</td>\n",
       "      <td>A</td>\n",
       "      <td>851</td>\n",
       "      <td>AO</td>\n",
       "      <td>2018-06-29 10:07:11</td>\n",
       "      <td>1901463</td>\n",
       "      <td>AOML, USA</td>\n",
       "      <td>Solo,  Seabird conductivity sensor</td>\n",
       "    </tr>\n",
       "    <tr>\n",
       "      <th>1</th>\n",
       "      <td>aoml/4900753/profiles/R4900753_176.nc</td>\n",
       "      <td>2011-01-01 16:32:09</td>\n",
       "      <td>-68.188</td>\n",
       "      <td>27.971</td>\n",
       "      <td>A</td>\n",
       "      <td>852</td>\n",
       "      <td>AO</td>\n",
       "      <td>2019-02-26 18:26:14</td>\n",
       "      <td>4900753</td>\n",
       "      <td>AOML, USA</td>\n",
       "      <td>Solo, FSI conductivity sensor</td>\n",
       "    </tr>\n",
       "    <tr>\n",
       "      <th>2</th>\n",
       "      <td>aoml/4901211/profiles/D4901211_010.nc</td>\n",
       "      <td>2011-01-02 10:10:50</td>\n",
       "      <td>-51.584</td>\n",
       "      <td>25.042</td>\n",
       "      <td>A</td>\n",
       "      <td>851</td>\n",
       "      <td>AO</td>\n",
       "      <td>2019-09-04 08:55:15</td>\n",
       "      <td>4901211</td>\n",
       "      <td>AOML, USA</td>\n",
       "      <td>Solo,  Seabird conductivity sensor</td>\n",
       "    </tr>\n",
       "    <tr>\n",
       "      <th>3</th>\n",
       "      <td>aoml/4900818/profiles/D4900818_135.nc</td>\n",
       "      <td>2011-01-02 10:23:10</td>\n",
       "      <td>-60.819</td>\n",
       "      <td>21.481</td>\n",
       "      <td>A</td>\n",
       "      <td>851</td>\n",
       "      <td>AO</td>\n",
       "      <td>2019-09-10 09:14:07</td>\n",
       "      <td>4900818</td>\n",
       "      <td>AOML, USA</td>\n",
       "      <td>Solo,  Seabird conductivity sensor</td>\n",
       "    </tr>\n",
       "    <tr>\n",
       "      <th>4</th>\n",
       "      <td>aoml/1901461/profiles/D1901461_023.nc</td>\n",
       "      <td>2011-01-02 11:26:40</td>\n",
       "      <td>-56.303</td>\n",
       "      <td>27.829</td>\n",
       "      <td>A</td>\n",
       "      <td>851</td>\n",
       "      <td>AO</td>\n",
       "      <td>2019-06-11 11:43:27</td>\n",
       "      <td>1901461</td>\n",
       "      <td>AOML, USA</td>\n",
       "      <td>Solo,  Seabird conductivity sensor</td>\n",
       "    </tr>\n",
       "    <tr>\n",
       "      <th>...</th>\n",
       "      <td>...</td>\n",
       "      <td>...</td>\n",
       "      <td>...</td>\n",
       "      <td>...</td>\n",
       "      <td>...</td>\n",
       "      <td>...</td>\n",
       "      <td>...</td>\n",
       "      <td>...</td>\n",
       "      <td>...</td>\n",
       "      <td>...</td>\n",
       "      <td>...</td>\n",
       "    </tr>\n",
       "    <tr>\n",
       "      <th>627</th>\n",
       "      <td>coriolis/6901051/profiles/D6901051_002.nc</td>\n",
       "      <td>2011-05-30 16:18:21</td>\n",
       "      <td>-58.071</td>\n",
       "      <td>21.489</td>\n",
       "      <td>A</td>\n",
       "      <td>846</td>\n",
       "      <td>IF</td>\n",
       "      <td>2018-01-08 15:42:06</td>\n",
       "      <td>6901051</td>\n",
       "      <td>Ifremer, France</td>\n",
       "      <td>Webb Research, Seabird sensor</td>\n",
       "    </tr>\n",
       "    <tr>\n",
       "      <th>628</th>\n",
       "      <td>coriolis/6900778/profiles/D6900778_010.nc</td>\n",
       "      <td>2011-05-30 18:41:42</td>\n",
       "      <td>-66.835</td>\n",
       "      <td>26.667</td>\n",
       "      <td>A</td>\n",
       "      <td>846</td>\n",
       "      <td>IF</td>\n",
       "      <td>2018-11-19 16:03:52</td>\n",
       "      <td>6900778</td>\n",
       "      <td>Ifremer, France</td>\n",
       "      <td>Webb Research, Seabird sensor</td>\n",
       "    </tr>\n",
       "    <tr>\n",
       "      <th>629</th>\n",
       "      <td>coriolis/1901075/profiles/D1901075_128.nc</td>\n",
       "      <td>2011-05-31 06:34:22</td>\n",
       "      <td>-48.018</td>\n",
       "      <td>20.628</td>\n",
       "      <td>A</td>\n",
       "      <td>846</td>\n",
       "      <td>IF</td>\n",
       "      <td>2019-06-03 18:20:47</td>\n",
       "      <td>1901075</td>\n",
       "      <td>Ifremer, France</td>\n",
       "      <td>Webb Research, Seabird sensor</td>\n",
       "    </tr>\n",
       "    <tr>\n",
       "      <th>630</th>\n",
       "      <td>aoml/1901463/profiles/D1901463_038.nc</td>\n",
       "      <td>2011-05-31 11:34:52</td>\n",
       "      <td>-50.403</td>\n",
       "      <td>24.956</td>\n",
       "      <td>A</td>\n",
       "      <td>851</td>\n",
       "      <td>AO</td>\n",
       "      <td>2018-06-29 10:07:13</td>\n",
       "      <td>1901463</td>\n",
       "      <td>AOML, USA</td>\n",
       "      <td>Solo,  Seabird conductivity sensor</td>\n",
       "    </tr>\n",
       "    <tr>\n",
       "      <th>631</th>\n",
       "      <td>aoml/4900753/profiles/R4900753_191.nc</td>\n",
       "      <td>2011-05-31 17:21:23</td>\n",
       "      <td>-72.048</td>\n",
       "      <td>28.676</td>\n",
       "      <td>A</td>\n",
       "      <td>852</td>\n",
       "      <td>AO</td>\n",
       "      <td>2019-02-26 18:26:17</td>\n",
       "      <td>4900753</td>\n",
       "      <td>AOML, USA</td>\n",
       "      <td>Solo, FSI conductivity sensor</td>\n",
       "    </tr>\n",
       "  </tbody>\n",
       "</table>\n",
       "<p>632 rows × 11 columns</p>\n",
       "</div>"
      ],
      "text/plain": [
       "                                          file                date  longitude  \\\n",
       "0        aoml/1901463/profiles/D1901463_023.nc 2011-01-01 11:49:19    -45.143   \n",
       "1        aoml/4900753/profiles/R4900753_176.nc 2011-01-01 16:32:09    -68.188   \n",
       "2        aoml/4901211/profiles/D4901211_010.nc 2011-01-02 10:10:50    -51.584   \n",
       "3        aoml/4900818/profiles/D4900818_135.nc 2011-01-02 10:23:10    -60.819   \n",
       "4        aoml/1901461/profiles/D1901461_023.nc 2011-01-02 11:26:40    -56.303   \n",
       "..                                         ...                 ...        ...   \n",
       "627  coriolis/6901051/profiles/D6901051_002.nc 2011-05-30 16:18:21    -58.071   \n",
       "628  coriolis/6900778/profiles/D6900778_010.nc 2011-05-30 18:41:42    -66.835   \n",
       "629  coriolis/1901075/profiles/D1901075_128.nc 2011-05-31 06:34:22    -48.018   \n",
       "630      aoml/1901463/profiles/D1901463_038.nc 2011-05-31 11:34:52    -50.403   \n",
       "631      aoml/4900753/profiles/R4900753_191.nc 2011-05-31 17:21:23    -72.048   \n",
       "\n",
       "     latitude ocean  profiler_code institution_code         date_update  \\\n",
       "0      24.541     A            851               AO 2018-06-29 10:07:11   \n",
       "1      27.971     A            852               AO 2019-02-26 18:26:14   \n",
       "2      25.042     A            851               AO 2019-09-04 08:55:15   \n",
       "3      21.481     A            851               AO 2019-09-10 09:14:07   \n",
       "4      27.829     A            851               AO 2019-06-11 11:43:27   \n",
       "..        ...   ...            ...              ...                 ...   \n",
       "627    21.489     A            846               IF 2018-01-08 15:42:06   \n",
       "628    26.667     A            846               IF 2018-11-19 16:03:52   \n",
       "629    20.628     A            846               IF 2019-06-03 18:20:47   \n",
       "630    24.956     A            851               AO 2018-06-29 10:07:13   \n",
       "631    28.676     A            852               AO 2019-02-26 18:26:17   \n",
       "\n",
       "         wmo      institution                            profiler  \n",
       "0    1901463        AOML, USA  Solo,  Seabird conductivity sensor  \n",
       "1    4900753        AOML, USA       Solo, FSI conductivity sensor  \n",
       "2    4901211        AOML, USA  Solo,  Seabird conductivity sensor  \n",
       "3    4900818        AOML, USA  Solo,  Seabird conductivity sensor  \n",
       "4    1901461        AOML, USA  Solo,  Seabird conductivity sensor  \n",
       "..       ...              ...                                 ...  \n",
       "627  6901051  Ifremer, France       Webb Research, Seabird sensor  \n",
       "628  6900778  Ifremer, France       Webb Research, Seabird sensor  \n",
       "629  1901075  Ifremer, France       Webb Research, Seabird sensor  \n",
       "630  1901463        AOML, USA  Solo,  Seabird conductivity sensor  \n",
       "631  4900753        AOML, USA       Solo, FSI conductivity sensor  \n",
       "\n",
       "[632 rows x 11 columns]"
      ]
     },
     "execution_count": 10,
     "metadata": {},
     "output_type": "execute_result"
    }
   ],
   "source": [
    "idx.to_dataframe()\n"
   ]
  },
  {
   "cell_type": "markdown",
   "metadata": {},
   "source": [
    "So from this you can also see that 'profiler code' for some of the observations is the same.."
   ]
  }
 ],
 "metadata": {
  "kernelspec": {
   "display_name": "Python 3",
   "language": "python",
   "name": "python3"
  },
  "language_info": {
   "codemirror_mode": {
    "name": "ipython",
    "version": 3
   },
   "file_extension": ".py",
   "mimetype": "text/x-python",
   "name": "python",
   "nbconvert_exporter": "python",
   "pygments_lexer": "ipython3",
   "version": "3.8.5"
  }
 },
 "nbformat": 4,
 "nbformat_minor": 4
}
