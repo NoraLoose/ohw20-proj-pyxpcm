{
 "cells": [
  {
   "cell_type": "code",
   "execution_count": 50,
   "metadata": {},
   "outputs": [],
   "source": [
    "# load libraries\n",
    "import numpy as np\n",
    "import pyxpcm\n",
    "from pyxpcm.models import pcm\n",
    "\n",
    "import xarray as xr\n",
    "\n",
    "from argopy import DataFetcher as ArgoDataFetcher\n",
    "\n",
    "import cartopy.crs as ccrs \n",
    "import matplotlib.pyplot as plt\n",
    "import cartopy.feature as cfeature\n",
    "from datetime import datetime, timedelta\n",
    "import gsw "
   ]
  },
  {
   "cell_type": "code",
   "execution_count": 92,
   "metadata": {},
   "outputs": [],
   "source": [
    "llon=-90;rlon=0\n",
    "ulat=70;llat=0 \n",
    "depthmin=0;depthmax=4000\n",
    "# January \n",
    "time_in='2018-01-01'\n",
    "time_f='2018-04-03'"
   ]
  },
  {
   "cell_type": "code",
   "execution_count": 38,
   "metadata": {},
   "outputs": [],
   "source": [
    "def get_argo_region_data(llon,rlon,llat,ulat,depthmin,depthmax,time_in,time_f):\n",
    "    # Function to get argo data for a given lat,lon box (using Argopy), \n",
    "    # and return a 2D array collection of vertical profile for the given region\n",
    "    #llon: left longitude\n",
    "    #rlon: right longtidue\n",
    "    #ulat: upper latitude\n",
    "    #llat: lower latitude\n",
    "\n",
    "    ds_points = ArgoDataFetcher(src='erddap').region([llon,rlon, llat,ulat, depthmin, depthmax,time_in,time_f]).to_xarray()\n",
    "    ds_profiles = ds_points.argo.point2profile()\n",
    "    return ds_profiles"
   ]
  },
  {
   "cell_type": "code",
   "execution_count": null,
   "metadata": {},
   "outputs": [],
   "source": [
    "def spliced_argo_region_data(llon,rlon,llat,ulat,depthmin,depthmax,time_start,time_end):\n",
    "    #Function that will get the argo data\n",
    "    #llon: left longitude\n",
    "    #rlon: right longtidue\n",
    "    #ulat: upper latitude\n",
    "    #llat: lower latitude\n",
    "    #time\n",
    "    \n",
    "    max_dt = timedelta(days = 1)\n",
    "    \n",
    "    if isinstance(time_start, str):\n",
    "        time_start = datetime.strptime(time_start,\"%Y-%m-%d\")\n",
    "    if isinstance(time_end, str):\n",
    "        time_end = datetime.strptime(time_end,\"%Y-%m-%d\")\n",
    "        \n",
    "    if time_end - time_start <= max_dt:\n",
    "        ds = get_argo_region_data(llon,rlon,llat,ulat,depthmin,depthmax,time_start,time_end)\n",
    "        return ds\n",
    "    else:\n",
    "        early_end = time_start+max_dt\n",
    "        ds = get_argo_region_data(llon,rlon,llat,ulat,depthmin,depthmax,time_start,early_end)\n",
    "        print(\"Retrived data from \" + time_start + \" to \" + early_end \", retreived \" + len(ds.N_PROF) + \" profiles\")\n",
    "        ds2 = spliced_argo_region_data(llon,rlon,llat,ulat,depthmin,depthmax, early_end,time_end)\n",
    "        return xr.concat([ds1,ds2],dim='N_PROF')\n"
   ]
  },
  {
   "cell_type": "code",
   "execution_count": null,
   "metadata": {},
   "outputs": [],
   "source": [
    "spliced_argo_region_data(llon,rlon,llat,ulat,depthmin,depthmax,time_in,time_f)"
   ]
  },
  {
   "cell_type": "code",
   "execution_count": null,
   "metadata": {},
   "outputs": [],
   "source": []
  }
 ],
 "metadata": {
  "kernelspec": {
   "display_name": "Python [conda env:ohw20-proj-pyxpcm]",
   "language": "python",
   "name": "conda-env-ohw20-proj-pyxpcm-py"
  },
  "language_info": {
   "codemirror_mode": {
    "name": "ipython",
    "version": 3
   },
   "file_extension": ".py",
   "mimetype": "text/x-python",
   "name": "python",
   "nbconvert_exporter": "python",
   "pygments_lexer": "ipython3",
   "version": "3.8.5"
  }
 },
 "nbformat": 4,
 "nbformat_minor": 4
}
